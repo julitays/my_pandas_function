{
 "cells": [
  {
   "cell_type": "code",
   "execution_count": 1,
   "id": "b26bcb91",
   "metadata": {},
   "outputs": [],
   "source": [
    "'''\n",
    "Данная функция принимает на вход три параметра:\n",
    "path - путь к файлу;\n",
    "need_start - строка в файле, с которой нужно начать вывод;\n",
    "need_end - строка в файле, с которой нужно закончить вывод;\n",
    "'''\n",
    "\n",
    "def need_part_file(path, need_start, need_end):\n",
    "    \n",
    "    scanning = False\n",
    "    for i in open(path).readline():\n",
    "        if i.startswith(need_end):\n",
    "            scanning = False\n",
    "            continue\n",
    "            \n",
    "        if scanning:\n",
    "            print(i)\n",
    "            \n",
    "        if need_start in i:\n",
    "            scanning = True\n",
    "            continue"
   ]
  }
 ],
 "metadata": {
  "kernelspec": {
   "display_name": "Python 3 (ipykernel)",
   "language": "python",
   "name": "python3"
  },
  "language_info": {
   "codemirror_mode": {
    "name": "ipython",
    "version": 3
   },
   "file_extension": ".py",
   "mimetype": "text/x-python",
   "name": "python",
   "nbconvert_exporter": "python",
   "pygments_lexer": "ipython3",
   "version": "3.10.9"
  }
 },
 "nbformat": 4,
 "nbformat_minor": 5
}
